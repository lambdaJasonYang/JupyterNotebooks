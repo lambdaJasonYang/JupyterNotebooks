{
 "cells": [
  {
   "cell_type": "markdown",
   "metadata": {},
   "source": [
    "### Notes about Combination \n",
    "### Bin and Bin2 are 2 ways to create the recursive Combination function<br>\n",
    "Given set N of cardinality n <br>  \n",
    "$$|N| = n  $$\n",
    "$$SetCombination(N,k) = C(N,k) = |\\{\\hat{C} \\subset N : |\\hat{C}| = k\\}|$$  \n",
    "Combination is number of possible subsets with cardinality k  <br>\n",
    "Permutation is number of ordered list with cardinality k  <br>"
   ]
  },
  {
   "cell_type": "code",
   "execution_count": 8,
   "metadata": {},
   "outputs": [
    {
     "data": {
      "text/plain": [
       "35"
      ]
     },
     "execution_count": 8,
     "metadata": {},
     "output_type": "execute_result"
    }
   ],
   "source": [
    "#Combination\n",
    "def Bin(n,k):\n",
    "  if k == 1 :\n",
    "    return n\n",
    "  if n < k:\n",
    "    return 0\n",
    "  else:\n",
    "    return Bin(n-1,k) + Bin(n-1,k-1)\n",
    "Bin(7,3)"
   ]
  },
  {
   "cell_type": "markdown",
   "metadata": {},
   "source": [
    "C(N,k) all possible subset combinations of set N and each subset has size k. <br>\n",
    "$C(N,k) =\\{\\hat{C} \\subset N : |\\hat{C}| = k\\} $<br>\n",
    "1. assume an arbitrary element $\\hat{x} \\in N$. \n",
    "2. assume an arbitrary element $\\hat{C} \\in C(N,k)$. \n",
    "    1. $(LEM)Either\\ \\hat{x} \\in \\hat{C}\\ or\\ \\hat{x} \\notin \\hat{C}\\ (reminder\\ \\hat{C} \\subset N\\ with\\ size\\ k\\ )$\n",
    "        1. $assume\\ \\hat{x} \\in \\hat{C}\\ $ \n",
    "            * $\\hat{x}$ is fixed in $\\hat{C}$, meaning we lose the freedom to choose the fixed $\\hat{x}$ from N.\n",
    "            * How many elements do we need to build $\\hat{C}$ with $\\hat{x}$ fixed? k-1 \n",
    "            * How many elements from N can we take to build $\\hat{C}$? |N|-1 = n-1\n",
    "                - Therefore we have (n-1 k-1) combinations in this case\n",
    "        2. $assume\\ \\hat{x} \\notin \\hat{C}$\n",
    "            * we lose the freedom to choose the $\\hat{x}$ from N because we already know(from assumption) we can't use $\\hat{x}$ in building $\\hat{C}$.\n",
    "            * How many elements do we need to build $\\hat{C}$? k\n",
    "            * How many elements from N can we take to build $\\hat{C}$? |N| = n\n",
    "                - Therefore we have (n-1 k) combinations in this case\n",
    "3. sum the 2 cases we get (n-1 k-1) + (n-1 k)"
   ]
  },
  {
   "cell_type": "code",
   "execution_count": 9,
   "metadata": {},
   "outputs": [
    {
     "data": {
      "text/plain": [
       "35"
      ]
     },
     "execution_count": 9,
     "metadata": {},
     "output_type": "execute_result"
    }
   ],
   "source": [
    "#Combination\n",
    "def Bin2(n,k):\n",
    "  if k == 0:\n",
    "    return 1\n",
    "  if k == 1:\n",
    "    return n\n",
    "  if n < k:\n",
    "    return 0\n",
    "  else:\n",
    "    return Bin2(n-2,k-2) + Bin2(n-2,k-1) + Bin2(n-2,k-1) + Bin2(n-2,k)\n",
    "Bin2(7,3)"
   ]
  },
  {
   "cell_type": "markdown",
   "metadata": {},
   "source": [
    "$C(N,k) =\\{\\hat{C} \\subset N : |\\hat{C}| = k\\} $<br>\n",
    "1. $Assume\\ arbitrary\\ a,b \\in N$.\n",
    "2. $Assume\\ arbitrary\\ element\\ \\hat{C} \\in C(N,k)$.  \n",
    "    1. $(LEM)Either\\ a \\in \\hat{C}\\ or\\ a \\notin \\hat{C}$.\n",
    "        1. $Assume\\ a \\in \\hat{C}$.\n",
    "            1. $(LEM)Either\\ b \\in \\hat{C}\\ or\\ b \\notin \\hat{C}$.\n",
    "                1. $Assume\\ b \\in \\hat{C}$.\n",
    "                    * since a,b are fixed and both in $\\hat{C}$. \n",
    "                    * We lose the freedom to take 2 elements from N to build $\\hat{C}$. Possible free elements from N = |N|-2\n",
    "                    * But we also only need 2 less elements to build $\\hat{C}$. Elements needed to build $\\hat{C}$ = k-2\n",
    "                        - Combination is (n-2 k-2) when a,b in $\\hat{C}$\n",
    "                2. $Assume\\ b \\notin \\hat{C}$.\n",
    "                    * a in $\\hat{C}$ but b not in $\\hat{C}$.\n",
    "                    * We lose the freedom to take 2 elements from N to build $\\hat{C}$. Possible free elements from N = |N|-2\n",
    "                    * Since a is already in $\\hat{C}$, we 1 less element to build $\\hat{C}$. Elements needed to build $\\hat{C}$ = k-2\n",
    "                        - Combination is (n-2 k-1) when a in C, b not in $\\hat{C}$.\n",
    "        2. $Assume\\ a \\notin \\hat{C}$.\n",
    "            1. $(LEM)Either\\ b \\in \\hat{C}\\ or\\ b \\notin\\ \\hat{C}$.\n",
    "                1. $Assume\\ b \\in \\hat{C}$.\n",
    "                    * a not in $\\hat{C}$ but b in $\\hat{C}$.\n",
    "                    * We lose the freedom to take 2 elements from N to build $\\hat{C}$. Possible free elements from N = |N|-2\n",
    "                    * Since b is already in $\\hat{C}$, we 1 less element to build $\\hat{C}$. Elements needed to build $\\hat{C}$ = k-2\n",
    "                        - Combination is (n-2 k-1) when a in $\\hat{C}$ b not in $\\hat{C}$.\n",
    "                2. $Assume\\ b \\notin \\hat{C}$.\n",
    "                    * a not in $\\hat{C}$ and b not in $\\hat{C}$.\n",
    "                    * We lose the freedom to take 2 elements from N to build $\\hat{C}$. Possible free elements from N = |N|-2\n",
    "                    * Elements needed to build $\\hat{C}$ = k\n",
    "                        - Combination is (n-2 k) when a,b not in $\\hat{C}$.\n",
    "3. Sum the four cases to get Combinations(N,k) = (n-2 k-2) + (n-2 k-1) + (n-2 k-1) + (n-2 k)"
   ]
  },
  {
   "cell_type": "raw",
   "metadata": {},
   "source": [
    "Given is some 'a' and 'b' are elem of n\n",
    "  Assume some 'a' elem C_i(k) or !(a elem C_i(k))\n",
    "  If 'a' elem C_i(k)...\n",
    "    Assume some 'b' elem C_i(k) or !(b elem C_i(k))\n",
    "      If 'b' elem C_i(k), we know 'a' and 'b' must be in both n and k. Two choices are restricted so combination\n",
    "      is (n-2 k-2)\n",
    "      If !(b elem C_i(k)),we know 'a' is restricted, and 'b' cannot be in n because it is in none of the combinations of k. \n",
    "      so combination is (n-2, k-1)\n",
    "  If !(a elem C_i(k))...\n",
    "    Assume some 'b' elem C_i(k) or !(b elem C_i(k))\n",
    "      If 'b' elem C_i(k), same as line 34\n",
    "      If !(b elem C_i(k)), then we know both 'a' and 'b' cannot be in n because they are in none of the combinations of k.\n",
    "      so combination is (n-2, k)\n"
   ]
  },
  {
   "cell_type": "code",
   "execution_count": 11,
   "metadata": {},
   "outputs": [
    {
     "name": "stdout",
     "output_type": "stream",
     "text": [
      "35\n"
     ]
    },
    {
     "data": {
      "text/plain": [
       "84"
      ]
     },
     "execution_count": 11,
     "metadata": {},
     "output_type": "execute_result"
    }
   ],
   "source": [
    "#Combination with repetition\n",
    "\n",
    "def CombRep(n,k):\n",
    "  \n",
    "  if k == 0:\n",
    "    return 1\n",
    "  if n == 1:\n",
    "    return 1\n",
    "  total = 0\n",
    "  for i in range(0,k+1):\n",
    "    total += CombRep(n-1,k-i)\n",
    "  return total\n",
    "print(CombRep(4,4))\n",
    "CombRep(7,3)\n",
    "#Restrict 0,1...|k| choose the rest |k|,|k-1|...0 \n",
    "#counts the number of ways to build a set k, without some arbitrary 'a' repeated k-i times."
   ]
  },
  {
   "cell_type": "raw",
   "metadata": {},
   "source": [
    "Nested Recursion"
   ]
  },
  {
   "cell_type": "code",
   "execution_count": 6,
   "metadata": {},
   "outputs": [
    {
     "name": "stdout",
     "output_type": "stream",
     "text": [
      "15\n"
     ]
    }
   ],
   "source": [
    "def sum1(n):\n",
    "  if n < 2:\n",
    "    return 1\n",
    "  else:\n",
    "    return sum1( (sum1(n-1)-sum1(n-2)))+n\n",
    "print(sum1(5))\n",
    "\n",
    "#sum(n-1) - sum(n-2) = n-1 we call this intermediate value after inner recursion\n",
    "#sum(intermediate value) = sum(n-1) this is the outer recursion\n",
    "#sum(n) = sum(n-1) + n this is the completed step\n"
   ]
  },
  {
   "cell_type": "raw",
   "metadata": {},
   "source": [
    "Primitive Recursion"
   ]
  },
  {
   "cell_type": "code",
   "execution_count": 19,
   "metadata": {},
   "outputs": [
    {
     "name": "stdout",
     "output_type": "stream",
     "text": [
      "9\n",
      "18\n"
     ]
    }
   ],
   "source": [
    "def zero(n):\n",
    "  return 0\n",
    "def succ(n):\n",
    "  return n + 1\n",
    "def proj(b,i):\n",
    "  return b[i]\n",
    "def comp(f,lstg):\n",
    "  ee = map(lambda g: lambda inputs: g(inputs), lstg)\n",
    "  ##ee is list of lambda __ : [g0(__)...gk(__)]\n",
    "  return lambda x: f(*tuple(k(x) for k in ee))\n",
    "  #returns lambda x: f((g0(x)...gk(x)))\n",
    "#lstg is a list of g_0..g_k functions each tasking same inputs\n",
    "#f takes k inputs which is number of functions\n",
    "#comp and g both takes len(x) or len(__) inputs\n",
    "\n",
    "#note that inputs is a tuple, since we can't have function with dynamic argument size\n",
    "def rec(count,Base,RWork,inputs):  \n",
    "  if count == 0:\n",
    "    return Base(inputs)\n",
    "  if count != 0:\n",
    "    Recinput = (count-1,rec(count-1,Base,RWork,inputs),inputs)\n",
    "    return RWork(Recinput)\n",
    "#from wiki\n",
    "#h is a k+1 nary function, +1 is the \"count\"  \n",
    "#h = \"rec\" function\n",
    "\n",
    "#f is the k nary function, \n",
    "#f = \"Base\" function\n",
    "\n",
    "#g is the k+2 nary function, +2 is the \"count\", \"rec(...)\"\n",
    "#g = \"RWork\" function\n",
    "\n",
    "#Note to make this work, we pass in Base, RWork, we ignore their cardinality.\n",
    "\n",
    "\n",
    "#template for Add(m,n) \n",
    "#(addbase,addRecWork,m,n)\n",
    "#induction on m\n",
    "def addbase(inputs):\n",
    "  return proj(inputs,0)\n",
    "  #Add(0,n) = n is the base case, we project 0 from \"f\" or \"Base\" function args which is only the input tuple.\n",
    "def addRecWork(Recinputs):\n",
    "  #Add(m,n) = 1+Add(m-1,n)\n",
    "  #proj(Recinput,1) is the recursive call, we project 1 from \"g\" or \"RWork\" function args\n",
    "  return succ( proj(Recinputs,1) )\n",
    "\n",
    "print(rec(6,addbase,addRecWork,(3,))) # print 9\n",
    "def Add(m,n):\n",
    "  return rec(m,addbase,addRecWork,(n,))\n",
    "#Using composition\n",
    "#print(rec(6,addbase,comp(succ,[lambda x: proj(x,1)]),(8,))\n",
    "#comp(succ,[succ])(5,)\n",
    "\n",
    "##Mult(m,n) = m* n\n",
    "def multbase(inputs):\n",
    "  return zero(proj(inputs,0))\n",
    "def multRecWork(Recinput):\n",
    "  return Add(proj(Recinput,1),proj(Recinput[2],0))\n",
    "#note we \"cheated\" using index [2] because our \"g\" function doesn't have dynamic input size\n",
    "print(rec(6,multbase,multRecWork,(3,)))\n",
    "def Mult(m,n):\n",
    "  return rec(m,multbase,multRecWork,(n,))\n"
   ]
  },
  {
   "cell_type": "code",
   "execution_count": null,
   "metadata": {},
   "outputs": [],
   "source": []
  }
 ],
 "metadata": {
  "kernelspec": {
   "display_name": "Python 3",
   "language": "python",
   "name": "python3"
  },
  "language_info": {
   "codemirror_mode": {
    "name": "ipython",
    "version": 3
   },
   "file_extension": ".py",
   "mimetype": "text/x-python",
   "name": "python",
   "nbconvert_exporter": "python",
   "pygments_lexer": "ipython3",
   "version": "3.8.6"
  }
 },
 "nbformat": 4,
 "nbformat_minor": 4
}
