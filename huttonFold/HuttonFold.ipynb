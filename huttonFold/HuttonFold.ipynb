{
 "cells": [
  {
   "cell_type": "markdown",
   "metadata": {},
   "source": [
    "## Fold \n",
    "\n",
    "fold also known as fold right\n",
    "\n"
   ]
  },
  {
   "cell_type": "code",
   "execution_count": 4,
   "metadata": {},
   "outputs": [],
   "source": [
    "def fold(recurse,base,arg):\n",
    "    if arg==[]:\n",
    "        return base\n",
    "    else:\n",
    "        return recurse(arg[0],fold(recurse,base,arg[1:])) #recurse has access to base,arg[0],arg[..] and IH"
   ]
  },
  {
   "cell_type": "markdown",
   "metadata": {},
   "source": [
    "$$fold :: (α → β → β) → β → ([α] → β)$$\n",
    "$$recurse :: (α → β → β)$$ \n",
    "$$base :: β$$\n",
    "$$arg :: [α]$$\n",
    "$$output :: β$$ \n",
    "$\\text{recurse is a monoidal binary action}$ \\\n",
    "$ arg = [arg[0],arg[1:]]\\ Python= x:xs\\ Haskell $ \n",
    "\n",
    "$$fold(\\ recurse\\ base\\ [arg[0],arg[1:]]) = \\begin{cases} \n",
    "& fold(\\ base\\ [] ) = base \\\\ \n",
    "& fold(\\ recurse\\ arg )= recurse( arg[0]\\ fold(recurse\\ base\\ arg[1:])) = recurse( arg[0]\\ IH)\\end{cases}$$\n",
    "\n",
    "$let\\ IH = fold( recurse\\ base\\ arg[1:])$ \\\n",
    "$\\text{IH can be thought of as the inductive hypothesis of the specification applied to the length n-1 list, arg[1..n]}$\n",
    "\n",
    "$\\text{the fold function in cell1 is more expressive than this equational definition of fold. Why?}$\n",
    "\n",
    "$\\text{recurse(arg[0], IH) in the 2nd component only has access to arg[0] and IH, compare to cell[1]'s recurse which has access to all parts of arg and the IH}$\n",
    "\n"
   ]
  },
  {
   "cell_type": "code",
   "execution_count": 2,
   "metadata": {},
   "outputs": [],
   "source": [
    "tlist =  [1,2,3,4,5]"
   ]
  },
  {
   "cell_type": "code",
   "execution_count": 12,
   "metadata": {},
   "outputs": [
    {
     "name": "stdout",
     "output_type": "stream",
     "text": [
      "fold sum monoid act: \t\t 15\n",
      "fold product monoid act: \t 120\n",
      "fold AND monoid act: \t\t True\n",
      "fold OR monoid act: \t\t 1\n"
     ]
    }
   ],
   "source": [
    "def sum1(a,b):\n",
    "    return a + b\n",
    "print(\"fold sum monoid act: \\t\\t\",fold(sum1,0,tlist))\n",
    "def product1(a,b):\n",
    "    return a * b\n",
    "print(\"fold product monoid act: \\t\",fold(product1,1,tlist))\n",
    "def and1(a,b):\n",
    "    return a and b\n",
    "print(\"fold AND monoid act: \\t\\t\", fold(and1,True,tlist))\n",
    "def or1(a,b):\n",
    "    return a or b\n",
    "print(\"fold OR monoid act: \\t\\t\",fold(or1,False,tlist))"
   ]
  },
  {
   "cell_type": "code",
   "execution_count": 16,
   "metadata": {},
   "outputs": [
    {
     "name": "stdout",
     "output_type": "stream",
     "text": [
      "fold append monoid act: \t [1, 2, 3, 4, 5]\n",
      "fold length monoid act: \t 5\n",
      "fold reverse monoid act: \t [5, 4, 3, 2, 1]\n",
      "fold map monoid act: \t\t [2, 4, 6, 8, 10]\n",
      "fold even monoid act: \t\t [2, 4]\n"
     ]
    }
   ],
   "source": [
    "appendlambda = lambda x,n: [x] + n\n",
    "print(\"fold append monoid act: \\t\", fold(appendlambda,[],tlist))\n",
    "#fold(lambda x. lambda y. [x] ++ y,[],\n",
    "lenlambda = lambda x,n: 1 + n\n",
    "print(\"fold length monoid act: \\t\",fold(lenlambda, 0, tlist))\n",
    "revlambda = lambda x,xs: xs + [x]\n",
    "print(\"fold reverse monoid act: \\t\",fold(revlambda,[],tlist))\n",
    "maplambda = lambda f:(lambda x,xs: [f(x)] + xs )\n",
    "times2 = lambda x: x * 2\n",
    "print(\"fold map monoid act: \\t\\t\",fold(maplambda(times2),[],tlist))\n",
    "\n",
    "filterlambda = lambda p: (lambda x,xs: [x] + xs if p(x) else xs)\n",
    "evenQ = lambda x: x%2 == 0\n",
    "print(\"fold even monoid act: \\t\\t\",fold(filterlambda(evenQ),[],tlist))"
   ]
  },
  {
   "cell_type": "markdown",
   "metadata": {},
   "source": [
    "## Universal property\n",
    "$$fold\\ f\\ b\\ [arg[0],arg[1:]] = \\begin{cases} \n",
    "  & g\\ [] = b \\\\\n",
    "  & g\\ [arg[0],arg[1:]] = f\\ arg[0]\\ (g\\ arg[1:]) = f\\ arg[0]\\ IH_{g}\\end{cases}$$\n",
    "\n",
    "$let\\ IH_{g} = g\\ arg[1:] $ \\\n",
    "$\\text{f is a monoidal binary action, WHILE g is a list function}$"
   ]
  },
  {
   "cell_type": "markdown",
   "metadata": {},
   "source": [
    "$\\text{Any function g regarding list can be folded}$ \n",
    "\n",
    "<span style=\"font-family:Papyrus; font-size:1em;\">\n",
    "Universal property: Given specification of function g, when can we produce a fold? <br>\n",
    "iff we can find a function f? <br>\n",
    "such that f applied to the first element of list and the IH of g results in expected specification of g. <br>\n",
    "here g arg[1:] is the IH for g<br>    \n",
    "</span>\n",
    "\n"
   ]
  },
  {
   "cell_type": "markdown",
   "metadata": {},
   "source": [
    "## Fusion property\n",
    "$h \\circ fold_{p,w} == fold_{f,b} \\ \\text{when can we compose h with one fold to get another?}$\\\n",
    "$$h\\ (fold\\ p\\ w\\ [arg[0],arg[1:]] ) == fold\\ f\\ b\\ [arg[0],arg[1:]]$$\n",
    "$$iff$$\n",
    "$$h\\ w = b$$\n",
    "$ \\hspace{15mm} h\\ (p\\ x\\ (fold\\ p\\ w\\ arg[1:])) = f\\ x\\ (h\\ (fold\\ p\\ w\\ arg[1:]))\\ \\ <=>\\ \\ h\\ (p\\ x\\ IH_{p}) = f\\ x\\ (h\\ IH_{p}) $  \\\n",
    "$let\\ IH_{p} = p\\ x\\ (fold\\ p\\ w\\ arg[1:])$\\\n",
    "$\\ h\\ (p\\ x\\ IH_{p})\\ \\text{notice this part of the equation is really just h applied to full p-fold function }$"
   ]
  },
  {
   "cell_type": "markdown",
   "metadata": {},
   "source": [
    "\n",
    "\n",
    "<span style=\"font-family:Papyrus; font-size:1em;\">\n",
    "   The above form uses universal property(h fold p w arg)  <br> \n",
    "    Given h and fold(p w x:xs) when can we fuse them to form fold(f b x:xs) ? <br> \n",
    "    observe line 4 of equation, <br>\n",
    "    h applied to (full p-fold function) = f x (h IHp) <br>\n",
    "    this means fusion is only possible <br>\n",
    "    when we can find a function f that can apply the first element of list with this composed(h,IH) to satisfy the specification <br>\n",
    "    in addition to finding a base b that results when h is applied to the base w <br>\n",
    "    \n",
    "</span>\n",
    "\n"
   ]
  },
  {
   "cell_type": "code",
   "execution_count": null,
   "metadata": {},
   "outputs": [],
   "source": []
  }
 ],
 "metadata": {
  "kernelspec": {
   "display_name": "Python 3",
   "language": "python",
   "name": "python3"
  },
  "language_info": {
   "codemirror_mode": {
    "name": "ipython",
    "version": 3
   },
   "file_extension": ".py",
   "mimetype": "text/x-python",
   "name": "python",
   "nbconvert_exporter": "python",
   "pygments_lexer": "ipython3",
   "version": "3.8.3"
  }
 },
 "nbformat": 4,
 "nbformat_minor": 4
}
