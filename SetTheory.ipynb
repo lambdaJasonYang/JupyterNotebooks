{
 "cells": [
  {
   "cell_type": "raw",
   "metadata": {},
   "source": [
    "Relations Closure, Set Theory with ZFC implementation of Natural Numbers"
   ]
  },
  {
   "cell_type": "code",
   "execution_count": 8,
   "metadata": {},
   "outputs": [
    {
     "data": {
      "text/plain": [
       "{4}"
      ]
     },
     "execution_count": 8,
     "metadata": {},
     "output_type": "execute_result"
    }
   ],
   "source": [
    "mylist = {(1,'a'),(2,'b'),(3,'c')}\n",
    "ml2 = {(1,2),(2,3),(3,4)}\n",
    "null = set()\n",
    "def get(setp,index):\n",
    "    return {x[1] for x in setp if x[0] == index}\n",
    "\n",
    "get(ml2,3)"
   ]
  },
  {
   "cell_type": "code",
   "execution_count": 10,
   "metadata": {},
   "outputs": [
    {
     "name": "stdout",
     "output_type": "stream",
     "text": [
      "{(9, 10), (1, 2), (2, 1), (9, 9), (1, 1), (2, 10), (5, 1), (9, 2), (2, 9), (5, 10), (1, 10), (2, 2), (5, 9), (9, 1), (1, 9), (5, 2)}\n"
     ]
    }
   ],
   "source": [
    "TestSetA = {1,9,2,5} #Set A\n",
    "TestSetB = {2,10,1,9}#Set B\n",
    "\n",
    "#Product Set\n",
    "def Prod(setA,setB):       \n",
    "    return {(a,b) for a in setA for b in setB}\n",
    "ProductSet_AB = Prod(TestSetA,TestSetB)\n",
    "print(ProductSet_AB)\n",
    "#produces pairs AxB = {(x,y)| x in A, y in B} = {(1, 1),(1, 2), (1, 9),...} \n",
    "\n"
   ]
  },
  {
   "cell_type": "code",
   "execution_count": 11,
   "metadata": {},
   "outputs": [
    {
     "name": "stdout",
     "output_type": "stream",
     "text": [
      "{(9, 10), (1, 2), (2, 10), (2, 9), (5, 10), (1, 10), (5, 9), (1, 9)}\n"
     ]
    }
   ],
   "source": [
    "lessNat = lambda x,y: x  < y # x < y Ordering Proposition Proposition\n",
    "def relation(setp,Pred):\n",
    "    return {x for x in setp if Pred(x[0],x[1])}\n",
    "# SetofOrderedPairs = {(x,y) in AxB| x < y }\n",
    "SetofOrderedPairs = relation(ProductSet_AB,lessNat)\n",
    "print(SetofOrderedPairs)"
   ]
  },
  {
   "cell_type": "code",
   "execution_count": 15,
   "metadata": {},
   "outputs": [
    {
     "name": "stdout",
     "output_type": "stream",
     "text": [
      "{(2, 10), (5, 10), (1, 9), (1, 10)}\n",
      "set()\n"
     ]
    }
   ],
   "source": [
    "#Composition of relations denoted \"RelationX_RelationY\"\n",
    "#RelationX is subset of AxC\n",
    "#RelationY is subset of BxC\n",
    "#RelationX_RelationY = {(a,c) in AxC| Exists b in B: (a,b) in AxB and (b,c) in BxC}\n",
    "\n",
    "def composeRel(RelA,RelB):\n",
    "    Pred = lambda Pair: (True if Pair[0][1] == Pair[1][0] else False)\n",
    "    #Pair = ((1,2),(2,3))\n",
    "    #Pair[0] = (1,2)\n",
    "    #Pair[1] = (2,3)\n",
    "    ProdAB = Prod(RelA,RelB)\n",
    "    #ProdAB = {((1,2),(2,3)),((1,2),(3,4))...}\n",
    "    CompSub = set(filter(Pred,ProdAB)) #Exist (a,b) in R_A, (b,c) in R_B\n",
    "    #Pair = ((a,b),(b,c))\n",
    "    MapComp = lambda Pair: (Pair[0][0],Pair[1][1]) #Get (a,c) from (a,b),(b,c) \n",
    "    #Pair = (a,c)\n",
    "    Out = set(map(MapComp,CompSub))\n",
    "    return Out\n",
    "print(composeRel(SetofOrderedPairs,SetofOrderedPairs))\n",
    "print(composeRel({(1,2)},{(1,2)}))"
   ]
  },
  {
   "cell_type": "code",
   "execution_count": 21,
   "metadata": {},
   "outputs": [
    {
     "name": "stdout",
     "output_type": "stream",
     "text": [
      "{(2, 4), (1, 3)}\n",
      "{(1, 4)}\n",
      "{(5, 10), (2, 10), (1, 9), (1, 10)}\n"
     ]
    }
   ],
   "source": [
    "#Another Way to compose Relations\n",
    "DomA = set(range(0,11))\n",
    "DomB = set(range(0,11))\n",
    "def CompRel(R_A,R_B): \n",
    "    return set(filter(lambda ij: set(filter( lambda b: (ij[0],b) in R_A and (b,ij[1]) in R_B,DomB)) != set() ,Prod(DomA,DomB)))\n",
    "print(composeRel(ml2,ml2))\n",
    "tmp = composeRel(ml2,ml2)\n",
    "print(composeRel(ml2,tmp))\n",
    "#...each composition filters\n",
    "print(CompRel(SetofOrderedPairs,SetofOrderedPairs))"
   ]
  },
  {
   "cell_type": "code",
   "execution_count": 30,
   "metadata": {},
   "outputs": [
    {
     "data": {
      "text/plain": [
       "{(1, 10)}"
      ]
     },
     "execution_count": 30,
     "metadata": {},
     "output_type": "execute_result"
    }
   ],
   "source": [
    "def NthComposeRelation(Rel,n):\n",
    "    #R_0 = Rel\n",
    "    #R_n = R * R_n-1\n",
    "    if n == 0:\n",
    "        return Rel\n",
    "    else:\n",
    "        TC = composeRel(Rel,NthComposeRelation(Rel,n-1))\n",
    "    return TC\n",
    "#This function returns the nth composition of relation at R_n, \n",
    "#NOT the transitive closure just yet\n",
    "NthComposeRelation(SetofOrderedPairs,2)"
   ]
  },
  {
   "cell_type": "code",
   "execution_count": 31,
   "metadata": {},
   "outputs": [
    {
     "data": {
      "text/plain": [
       "{(1, 2), (1, 9), (1, 10), (2, 9), (2, 10), (5, 9), (5, 10), (9, 10)}"
      ]
     },
     "execution_count": 31,
     "metadata": {},
     "output_type": "execute_result"
    }
   ],
   "source": [
    "def TransClosure(Rel,n):\n",
    "    FamilyUnion = set() # Union {R_i| i in Nat}\n",
    "    for i in range(0,n):\n",
    "        FamilyUnion = FamilyUnion.union(IndTransClosure(Rel,i))\n",
    "    return FamilyUnion\n",
    "#This is the transitive closure of relation, assume n is infinity\n",
    "TransClosure(SetofOrderedPairs,999)"
   ]
  },
  {
   "cell_type": "raw",
   "metadata": {},
   "source": [
    "Now we're moving to ZFC Set theory, barebones implementation of natural numbers using only sets"
   ]
  },
  {
   "cell_type": "code",
   "execution_count": 42,
   "metadata": {},
   "outputs": [
    {
     "name": "stdout",
     "output_type": "stream",
     "text": [
      "Set Representation of 0 = frozenset()\n",
      "Set Representation of 1 =  frozenset({frozenset()})\n",
      "Set Representation of 2 =  frozenset({frozenset(), frozenset({frozenset()})})\n"
     ]
    }
   ],
   "source": [
    "def inductiveNat(n):\n",
    "    if n == 0:\n",
    "        return frozenset()\n",
    "    else:\n",
    "        IHset = inductiveNat(n-1)\n",
    "        return Succ(IHset)\n",
    "    #0 = {}\n",
    "    #1 = {0} = 0 U {0} = {{}}\n",
    "    #2 = {0,1} =  1 U {1} = {0} U {{0}} = {0,{0}} = { {}, {{}} } \n",
    "    #3 = {0,1,2} = 2 U {2} = {0,1} U {{0,1}} = {0,1,{0,1}} = { {}, {{}}, {{},{{}}} } \n",
    "    #frozenset() = {} = null\n",
    "    #frozenset({frozenset()}) = {null}\n",
    "    #2 = frozenset({frozenset({frozenset()}), frozenset()})\n",
    "    #2 =           {          {         {}} ,          {}}\n",
    "    #ignore all outer frozenset except inner frozenset() = {}\n",
    "SetRepresentation0 = inductiveNat(0)# empty set\n",
    "SetRepresentation1 = inductiveNat(1)# wrap SetRepresentation0 in a set then Union this with SetRepresentation0,\n",
    "#SetRepresentation1 = {SetRepresentation0} Union SetRepresentation0 = {{}} Union {} = {{}}\n",
    "SetRepresentation2 = inductiveNat(2)# \n",
    "#SetRepresentation2 = {SetRepresentation1} Union SetRepresentation1 = {{{}}} Union {{}} ={ {{}},{} }\n",
    "print(f\"Set Representation of 0 = {SetRepresentation0}\") \n",
    "print(f\"Set Representation of 1 =  {SetRepresentation1}\") \n",
    "print(f\"Set Representation of 2 =  {SetRepresentation2}\") "
   ]
  },
  {
   "cell_type": "code",
   "execution_count": 46,
   "metadata": {},
   "outputs": [
    {
     "name": "stdout",
     "output_type": "stream",
     "text": [
      "Successor of Set Representation of 1 is frozenset({frozenset(), frozenset({frozenset()})}) \n",
      " is equal to Set Representation of 2 frozenset({frozenset(), frozenset({frozenset()})})? True\n"
     ]
    }
   ],
   "source": [
    "def Succ(x):\n",
    "    # N-1 U {N-1} = Succ(N-1) = N\n",
    "    return (frozenset(x)).union(set({frozenset(x)}) )    \n",
    "#Successor of Natural Numbers in ZFC Set Theory is simply Union\n",
    "print(f\"Successor of Set Representation of 1 is {Succ(SetRepresentation1)} \\n is equal to Set Representation of 2 {inductiveNat(2)}? {inductiveNat(2)==Succ(SetRepresentation1)}\" )\n",
    "\n",
    "SetRepresentation3 = inductiveNat(3)\n",
    "#SetRepresentation4 = Succ(SetRepresentation3)\n",
    "#print(SetRepresentation4)"
   ]
  },
  {
   "cell_type": "code",
   "execution_count": 47,
   "metadata": {},
   "outputs": [
    {
     "name": "stdout",
     "output_type": "stream",
     "text": [
      "Set Representation of 1 is less than 3? True \n"
     ]
    }
   ],
   "source": [
    "#Subset is used as Order Relation of Set Representation of Natural Numbers\n",
    "def lessthan(a,b):\n",
    "    return a.issubset(b)\n",
    "print(f\"Set Representation of 1 is less than 3? {lessthan(SetRepresentation1,SetRepresentation3)} \" "
   ]
  },
  {
   "cell_type": "code",
   "execution_count": null,
   "metadata": {},
   "outputs": [],
   "source": [
    "#Quantifiers\n",
    "def Exists(S,P):\n",
    "    if len(set(filter(P,S))) != 0:\n",
    "        return True\n",
    "    else:\n",
    "        return False\n",
    "def ForAll(S,P):\n",
    "    if len(set(filter(P,S))) == len(S):\n",
    "        return True\n",
    "    else:\n",
    "        return False"
   ]
  },
  {
   "cell_type": "code",
   "execution_count": null,
   "metadata": {},
   "outputs": [],
   "source": [
    "def Unique(S,P):\n",
    "    gg = lambda x,y: x == y if P(x) and P(y) else True\n",
    "                    #if P(x) == P(y) then x == y\n",
    "    SS = Prod(S,S)\n",
    "    return (ForAll(SS,gg))\n",
    "\n",
    "#Get Arbitary element of set\n",
    "def GetArb(x):\n",
    "    return set({set(x).pop()})\n",
    "\n",
    "#Get Max element of Set\n",
    "#When used on SetRepresentation, notice that it returns the predecessor\n",
    "def Max(x): #\n",
    "    if len(x) == 0:\n",
    "        return 0\n",
    "    elif len(x) == 1:\n",
    "        return set(x).pop()\n",
    "    else:\n",
    "        #{head} subset of Max({tail})?\n",
    "        #1 is subset of Max({2,3,4,5})=5 = {1,2,3,4,{1,2,3,4}}\n",
    "        arb = GetArb(x)\n",
    "        rem = x.difference(arb)\n",
    "        arb = arb.pop()\n",
    "        if arb.issubset(Max(rem)):\n",
    "            return Max(rem)\n",
    "        elif arb.issuperset(Max(rem)):\n",
    "            return arb\n",
    "        \n",
    "#Set Union\n",
    "def FSetUnion(x):\n",
    "    a = frozenset()\n",
    "    for i in x:\n",
    "        a = a.union(i)\n",
    "    return a\n",
    "\n",
    "#Convert Set representation of number to a typical python number\n",
    "def ZFCToNum(n):\n",
    "    if len(n) == 0:\n",
    "        return 0\n",
    "    else:\n",
    "        #n = {a,b,c}\n",
    "        arb = GetArb(n)\n",
    "        #n.pop = b, arb = {b}\n",
    "        rem = n.difference(arb)\n",
    "        #rem = {a,b,c} - {b} = {a,c}\n",
    "        return 1 + ZFCToNum(rem)       \n",
    "ZFCToNum(inductiveNat(4))\n",
    "ZFCToNum(Max(inductiveNat(9))) #Max == predecessor\n",
    "ZFCToNum(FSetUnion(inductiveNat(7))) #Family Set Union == predecessor\n",
    "#the Max of the set theoretical number is the predecessor\n",
    "def inductiveRel(setp,pred):\n",
    "    pred(get(setp,0))\n",
    "    def IH(pred,n):\n",
    "        IHp = pred(n-1)\n",
    "        \n",
    "get(mylist,2)\n",
    "    "
   ]
  }
 ],
 "metadata": {
  "kernelspec": {
   "display_name": "Python 3",
   "language": "python",
   "name": "python3"
  },
  "language_info": {
   "codemirror_mode": {
    "name": "ipython",
    "version": 3
   },
   "file_extension": ".py",
   "mimetype": "text/x-python",
   "name": "python",
   "nbconvert_exporter": "python",
   "pygments_lexer": "ipython3",
   "version": "3.8.6"
  }
 },
 "nbformat": 4,
 "nbformat_minor": 4
}
