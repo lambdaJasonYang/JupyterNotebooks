{
 "cells": [
  {
   "cell_type": "markdown",
   "metadata": {},
   "source": [
    "## Primitive Recursion"
   ]
  },
  {
   "cell_type": "markdown",
   "metadata": {},
   "source": [
    "* Axioms:\n",
    "      1. Constant function: The 0-ary constant function 0 is primitive recursive.\n",
    "      2. Successor function: The 1-ary successor function S, which returns the successor of its argument (see Peano postulates), is primitive recursive. That is, S(k) = k + 1.\n",
    "      3. Projection function: For every n≥1 and each i with 1≤i≤n, the n-ary projection function Pⁿᵢ, which returns its i-th argument, is primitive recursive.\n",
    "      4. Composition: Given a k-ary primitive recursive function f, and k many m-ary primitive recursive functions g1,...,gk, the composition of f with g1,...,gk, i.e. the m-ary function\n",
    "      5. Primitive recursion: Given f, a k-ary primitive recursive function, and g, a (k+2)-ary primitive recursive function, the (k+1)-ary function h is defined as the primitive recursion of f and g, i.e. the function h is primitive recursive when"
   ]
  },
  {
   "cell_type": "code",
   "execution_count": 25,
   "metadata": {},
   "outputs": [
    {
     "name": "stdout",
     "output_type": "stream",
     "text": [
      "Constant function axiom: the 0-ary constant function zero() is primitive recursive and returns 0\n",
      "Successor function axiom: the 1-ary constant function succ(x) is primitive recursive and applied to zero() returns 1\n"
     ]
    }
   ],
   "source": [
    "#Axioms 1 to 3\n",
    "def zero():\n",
    "  return 0\n",
    "def succ(n):\n",
    "  return n + 1\n",
    "def proj(*n_args,i_arg):\n",
    "    return n_args[i_arg-1]\n",
    "\n",
    "print(f\"Constant function axiom: the 0-ary constant function zero() is primitive recursive and returns {zero()}\")\n",
    "print(f\"Successor function axiom: the 1-ary constant function succ(x) is primitive recursive and applied to zero() returns {succ(zero())}\")\n",
    "#print(f\"Projection function axiom: the n-ary constant function. Example 3-ary function with 2nd projection denoted as projection^3_2,\\n projection^3_2(3,6,7) translates to proj((3,6,7),2) returns {proj((3,6,7),2)}\")\n"
   ]
  },
  {
   "cell_type": "code",
   "execution_count": 103,
   "metadata": {},
   "outputs": [
    {
     "name": "stdout",
     "output_type": "stream",
     "text": [
      "35\n"
     ]
    }
   ],
   "source": [
    "def comp(f,*g_functions):\n",
    "    #f takes k arguments\n",
    "    #comp2 has k amount of g_functions that take m arguments\n",
    "    #the output of the k amount of g_functions are fed into f.\n",
    "    #therefore comp2 or the function h in wikipedia takes m arguments and composes f after g.\n",
    "    g_i = tuple(map(lambda g: lambda *inputs: g(*inputs), g_functions))\n",
    "    \n",
    "    return lambda *x: f(*tuple(k(*x) for k in g_i))\n",
    "  #returns lambda x: f((g0(x)...gk(x)))\n",
    "print(comp(lambda a,b: a * b,lambda x: x+2, lambda x: x + 4)(3,))\n"
   ]
  },
  {
   "cell_type": "markdown",
   "metadata": {},
   "source": [
    "$Composition\\ h(x_{i}...x_{m})=f(g_1(x_1,...x_m),...g_k(x_1,...x_m))$"
   ]
  },
  {
   "cell_type": "code",
   "execution_count": 83,
   "metadata": {},
   "outputs": [
    {
     "name": "stdout",
     "output_type": "stream",
     "text": [
      "basic 3+5 without primitive recursion = 8\n",
      "primitive recursive 3+5 = 8\n"
     ]
    }
   ],
   "source": [
    "def primitive_rec(BaseCase_f,RecursiveCase_g,WellOrderCountA,*argsA):\n",
    "    def h(WellOrderCount,args):\n",
    "        if WellOrderCount == 0:\n",
    "            return BaseCase_f(args)\n",
    "        if WellOrderCount != 0:\n",
    "            return RecursiveCase_g(WellOrderCount-1,h(WellOrderCount-1,args),args)\n",
    "    return h(WellOrderCountA,argsA)\n",
    "#from Wikipedia\n",
    "#h is (k+1)-ary function defined in terms of f and g\n",
    "#g is (k+2)-ary function\n",
    "#f is k-ary function\n",
    "\n",
    "#f=BaseCase_f \n",
    "#g=RecursiveCase_g\n",
    "#h=h\n",
    "\n",
    "\n",
    "#print(proj2(3,i_arg=1))\n",
    "def addBasic(n,x):\n",
    "    if n == 0:\n",
    "        return proj(x,i_arg=1)\n",
    "    if n != 0:\n",
    "        return succ(proj(n,add(n-1,x),x,i_arg=2))\n",
    "print(f\"basic 3+5 without primitive recursion = {addBasic(3,5)}\" )\n",
    "\n",
    "f_Add = lambda args: proj(*args,i_arg=1)\n",
    "g_Add = lambda count,IH,args: succ(proj(count-1,IH,args,i_arg=2))\n",
    "PrimitiveAdd = lambda x,y: primitive_rec(f_Add,g_Add,x,y)\n",
    "print(f\"primitive recursive 3+5 = {PrimitiveAdd(3,5)}\" )"
   ]
  },
  {
   "cell_type": "markdown",
   "metadata": {},
   "source": [
    "- f is the base case function with arguments (Arguments that do not include count)\n",
    "- g is the recursive case function with arguments (count,accumulator,Arguments that do not include count)\n",
    "- h is the full function with arguments (count, Arguments that do not include count)\n"
   ]
  },
  {
   "cell_type": "code",
   "execution_count": 114,
   "metadata": {},
   "outputs": [
    {
     "name": "stdout",
     "output_type": "stream",
     "text": [
      "primitive recursive 3*5 = 15\n"
     ]
    }
   ],
   "source": [
    "f_Mult = lambda args: zero()\n",
    "g_Mult = lambda count,IH,args: PrimitiveAdd(proj(*args,i_arg=1),IH)\n",
    "PrimitiveMult = lambda x,y: primitive_rec(f_Mult,g_Mult,x,y)\n",
    "print(f\"primitive recursive 3*5 = {PrimitiveMult(3,5)}\" )"
   ]
  },
  {
   "cell_type": "code",
   "execution_count": 126,
   "metadata": {},
   "outputs": [
    {
     "name": "stdout",
     "output_type": "stream",
     "text": [
      "(3+5)*(3+2) is 40\n",
      "f is 3-nary function returning a list therefore comp(f,...) takes 3 additional g functions, x+y,x*y,x^y, \n",
      "        since all g functions take 2 arguments we must give 2 arguments to the resulting comp(f,g1,g2,g3) function. \n",
      "        We give (5,3) to get f(g1(5,3),g2(5,3)g3(5,3)) \n",
      "      output: [8, 15, 6]\n"
     ]
    }
   ],
   "source": [
    "print(f\"(3+5)*(3+2) is {comp(PrimitiveMult,lambda x: x + 5,lambda x: x + 2)(3)}\" )\n",
    "print(f\"\"\"f is 3-nary function returning a list therefore comp(f,...) takes 3 additional g functions, x+y,x*y,x^y, \n",
    "        since all g functions take 2 arguments we must give 2 arguments to the resulting comp(f,g1,g2,g3) function. \n",
    "        We give (5,3) to get f(g1(5,3),g2(5,3)g3(5,3)) \n",
    "      output: {comp(lambda x,y,z: [x,y,z],lambda x,y: x+y,lambda x,y: x*y,lambda x,y: x^y )(5,3)}\"\"\"  )"
   ]
  },
  {
   "cell_type": "markdown",
   "metadata": {},
   "source": [
    "- Notice the composition first argument is f and the rest are g1...gN.\n",
    "- The number of argument to f is the number of g's that are needed in comp function.\n",
    "- The argument given to comp(...)(argument) is the number of arguments that a g function must take.\n",
    "- Each g function must take the number of arguments."
   ]
  }
 ],
 "metadata": {
  "kernelspec": {
   "display_name": "Python 3",
   "language": "python",
   "name": "python3"
  },
  "language_info": {
   "codemirror_mode": {
    "name": "ipython",
    "version": 3
   },
   "file_extension": ".py",
   "mimetype": "text/x-python",
   "name": "python",
   "nbconvert_exporter": "python",
   "pygments_lexer": "ipython3",
   "version": "3.8.6"
  }
 },
 "nbformat": 4,
 "nbformat_minor": 4
}
