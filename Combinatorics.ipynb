{
 "cells": [
  {
   "cell_type": "markdown",
   "metadata": {},
   "source": [
    "### Notes about Combination \n",
    "### Bin and Bin2 are 2 ways to create the recursive Combination function<br>\n",
    "Given set N of cardinality n <br>  \n",
    "$$|N| = n  $$\n",
    "$$SetCombination(N,k) = C(N,k) = |\\{\\hat{C} \\subset N : |\\hat{C}| = k\\}|$$  \n",
    "Combination is number of possible subsets with cardinality k  <br>\n",
    "Permutation is number of ordered list with cardinality k  <br>"
   ]
  },
  {
   "cell_type": "code",
   "execution_count": 8,
   "metadata": {},
   "outputs": [
    {
     "data": {
      "text/plain": [
       "35"
      ]
     },
     "execution_count": 8,
     "metadata": {},
     "output_type": "execute_result"
    }
   ],
   "source": [
    "#Combination\n",
    "def Bin(n,k):\n",
    "  if k == 1 :\n",
    "    return n\n",
    "  if n < k:\n",
    "    return 0\n",
    "  else:\n",
    "    return Bin(n-1,k) + Bin(n-1,k-1)\n",
    "Bin(7,3)"
   ]
  },
  {
   "cell_type": "markdown",
   "metadata": {},
   "source": [
    "C(N,k) all possible subset combinations of set N and each subset has size k. <br>\n",
    "$C(N,k) =\\{\\hat{C} \\subset N : |\\hat{C}| = k\\} $<br>\n",
    "1. assume an arbitrary element $\\hat{x} \\in N$. \n",
    "2. assume an arbitrary element $\\hat{C} \\in C(N,k)$. \n",
    "    1. $(LEM)Either\\ \\hat{x} \\in \\hat{C}\\ or\\ \\hat{x} \\notin \\hat{C}\\ (reminder\\ \\hat{C} \\subset N\\ with\\ size\\ k\\ )$\n",
    "        1. $assume\\ \\hat{x} \\in \\hat{C}\\ $ \n",
    "            * $\\hat{x}$ is fixed in $\\hat{C}$, meaning we lose the freedom to choose the fixed $\\hat{x}$ from N.\n",
    "            * How many elements do we need to build $\\hat{C}$ with $\\hat{x}$ fixed? k-1 \n",
    "            * How many elements from N can we take to build $\\hat{C}$? |N|-1 = n-1\n",
    "                * Therefore we have $\\binom{n-1}{k-1}$ combinations in this case\n",
    "        2. $assume\\ \\hat{x} \\notin \\hat{C}$\n",
    "            * we lose the freedom to choose the $\\hat{x}$ from N because we already know(from assumption) we can't use $\\hat{x}$ in building $\\hat{C}$.\n",
    "            * How many elements do we need to build $\\hat{C}$? k\n",
    "            * How many elements from N can we take to build $\\hat{C}$? |N| = n\n",
    "                * Therefore we have $\\binom{n-1}{k}$ combinations in this case\n",
    "3. sum the 2 cases we get $\\binom{n-1}{k-1} + \\binom{n-1}{k}$"
   ]
  },
  {
   "cell_type": "code",
   "execution_count": 9,
   "metadata": {},
   "outputs": [
    {
     "data": {
      "text/plain": [
       "35"
      ]
     },
     "execution_count": 9,
     "metadata": {},
     "output_type": "execute_result"
    }
   ],
   "source": [
    "#Combination\n",
    "def Bin2(n,k):\n",
    "  if k == 0:\n",
    "    return 1\n",
    "  if k == 1:\n",
    "    return n\n",
    "  if n < k:\n",
    "    return 0\n",
    "  else:\n",
    "    return Bin2(n-2,k-2) + Bin2(n-2,k-1) + Bin2(n-2,k-1) + Bin2(n-2,k)\n",
    "Bin2(7,3)"
   ]
  },
  {
   "cell_type": "markdown",
   "metadata": {},
   "source": [
    "$C(N,k) =\\{\\hat{C} \\subset N : |\\hat{C}| = k\\} $<br>\n",
    "1. $Assume\\ arbitrary\\ a,b \\in N$.\n",
    "2. $Assume\\ arbitrary\\ element\\ \\hat{C} \\in C(N,k)$.  \n",
    "    1. $(LEM)Either\\ a \\in \\hat{C}\\ or\\ a \\notin \\hat{C}$.\n",
    "        1. $Assume\\ a \\in \\hat{C}$.\n",
    "            1. $(LEM)Either\\ b \\in \\hat{C}\\ or\\ b \\notin \\hat{C}$.\n",
    "                1. $Assume\\ b \\in \\hat{C}$.\n",
    "                    * since a,b are fixed and both in $\\hat{C}$. \n",
    "                    * We lose the freedom to take 2 elements from N to build $\\hat{C}$. Possible free elements to pick from N = |N|-2\n",
    "                    * But we also only need 2 less elements to build $\\hat{C}$. Elements needed to build $\\hat{C}$ = k-2\n",
    "                        * Combination is $\\binom{n-2}{k-2}\\ when\\ a,b \\in \\hat{C}$\n",
    "                2. $Assume\\ b \\notin \\hat{C}$.\n",
    "                    * a in $\\hat{C}$ but b not in $\\hat{C}$.\n",
    "                    * We lose the freedom to take 2 elements from N to build $\\hat{C}$. Possible free elements to pick from N = |N|-2\n",
    "                    * Since a is already in $\\hat{C}$, we need 1 less element to build $\\hat{C}$. Elements needed to build $\\hat{C}$ = k-1\n",
    "                        * Combination is $\\binom{n-2}{k-1}\\ when\\ a \\in \\hat{C},\\ b \\notin \\hat{C}$.\n",
    "        2. $Assume\\ a \\notin \\hat{C}$.\n",
    "            1. $(LEM)Either\\ b \\in \\hat{C}\\ or\\ b \\notin\\ \\hat{C}$.\n",
    "                1. $Assume\\ b \\in \\hat{C}$.\n",
    "                    * a not in $\\hat{C}$ but b in $\\hat{C}$.\n",
    "                    * We lose the freedom to take 2 elements from N to build $\\hat{C}$. Possible free elements to pick from N = |N|-2\n",
    "                    * Since b is already in $\\hat{C}$, we need 1 less element to build $\\hat{C}$. Elements needed to build $\\hat{C}$ = k-1\n",
    "                        * Combination is $\\binom{n-2}{k-1}\\ when\\ a \\notin \\hat{C},\\ b \\in \\hat{C}$.\n",
    "                2. $Assume\\ b \\notin \\hat{C}$.\n",
    "                    * a not in $\\hat{C}$ and b not in $\\hat{C}$.\n",
    "                    * We lose the freedom to take 2 elements from N to build $\\hat{C}$. Possible free elements to pick from N = |N|-2\n",
    "                    * Elements needed to build $\\hat{C}$ = k\n",
    "                        * Combination is $\\binom{n-2}{k}\\ when\\ a,b \\notin \\hat{C}$\n",
    "3. Sum the four cases to get $Combinations(N,k) = \\binom{n-2}{k-2} + \\binom{n-2}{k-1} + \\binom{n-2}{k-1} + \\binom{n-2}{k} $ "
   ]
  },
  {
   "cell_type": "code",
   "execution_count": 11,
   "metadata": {},
   "outputs": [
    {
     "name": "stdout",
     "output_type": "stream",
     "text": [
      "35\n"
     ]
    },
    {
     "data": {
      "text/plain": [
       "84"
      ]
     },
     "execution_count": 11,
     "metadata": {},
     "output_type": "execute_result"
    }
   ],
   "source": [
    "#Combination with repetition\n",
    "\n",
    "def CombRep(n,k):\n",
    "  \n",
    "  if k == 0:\n",
    "    return 1\n",
    "  if n == 1:\n",
    "    return 1\n",
    "  total = 0\n",
    "  for i in range(0,k+1):\n",
    "    total += CombRep(n-1,k-i)\n",
    "  return total\n",
    "print(CombRep(4,4))\n",
    "CombRep(7,3)\n",
    "#Restrict 0,1...|k| choose the rest |k|,|k-1|...0 \n",
    "#counts the number of ways to build a set k, without some arbitrary 'a' repeated k-i times."
   ]
  },
  {
   "cell_type": "raw",
   "metadata": {},
   "source": [
    "Nested Recursion"
   ]
  },
  {
   "cell_type": "code",
   "execution_count": 6,
   "metadata": {},
   "outputs": [
    {
     "name": "stdout",
     "output_type": "stream",
     "text": [
      "15\n"
     ]
    }
   ],
   "source": [
    "def sum1(n):\n",
    "  if n < 2:\n",
    "    return 1\n",
    "  else:\n",
    "    return sum1( (sum1(n-1)-sum1(n-2)))+n\n",
    "print(sum1(5))\n",
    "\n",
    "#sum(n-1) - sum(n-2) = n-1 we call this intermediate value after inner recursion\n",
    "#sum(intermediate value) = sum(n-1) this is the outer recursion\n",
    "#sum(n) = sum(n-1) + n this is the completed step\n"
   ]
  },
  {
   "cell_type": "code",
   "execution_count": null,
   "metadata": {},
   "outputs": [],
   "source": []
  }
 ],
 "metadata": {
  "kernelspec": {
   "display_name": "Python 3",
   "language": "python",
   "name": "python3"
  },
  "language_info": {
   "codemirror_mode": {
    "name": "ipython",
    "version": 3
   },
   "file_extension": ".py",
   "mimetype": "text/x-python",
   "name": "python",
   "nbconvert_exporter": "python",
   "pygments_lexer": "ipython3",
   "version": "3.8.6"
  }
 },
 "nbformat": 4,
 "nbformat_minor": 4
}
