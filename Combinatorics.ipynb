{
 "cells": [
  {
   "cell_type": "raw",
   "metadata": {},
   "source": [
    "Notes about Combination\n",
    "Given set S of cardinality n \n",
    "|S| = n\n",
    "Combination = |{x in PowerSet(S) : |x| == k}|\n",
    "Combination is number of possible subsets with cardinality k\n",
    "Permutation is number of ordered list with cardinality k"
   ]
  },
  {
   "cell_type": "code",
   "execution_count": 8,
   "metadata": {},
   "outputs": [
    {
     "data": {
      "text/plain": [
       "35"
      ]
     },
     "execution_count": 8,
     "metadata": {},
     "output_type": "execute_result"
    }
   ],
   "source": [
    "#Combination\n",
    "def Bin(n,k):\n",
    "  if k == 1 :\n",
    "    return n\n",
    "  if n < k:\n",
    "    return 0\n",
    "  else:\n",
    "    return Bin(n-1,k) + Bin(n-1,k-1)\n",
    "Bin(7,3)"
   ]
  },
  {
   "cell_type": "raw",
   "metadata": {},
   "source": [
    "Let C_i(k) be all possible combinations of set k with size |k| enumerated with index i\n",
    "  Forall i(x elem C_i(k)) -> x elem n\n",
    "  Forall i(x Not elem C_i(k)) -> x Not elem n\n",
    " notation abuse drop the 'Forall i' and just use C_i to mean the same thing \n",
    " \n",
    " #Given is some arbitrary 'a'\n",
    "#Assume some 'a' elem C_i(k) or !(a elem C_i(k))\n",
    "  #if 'a' elem C_i(k) then we already know 'a' is in n and 'a' is in all combinations of k. So our combination is (n-1 k-1)\n",
    "  #if !(a elem C_i(k)) then we know 'a' cannot be in any combination of k, which means 'a' cannot be n. We still choose |k| elements\n",
    "  #from n so our combination is (n-1 k)\n",
    "#From the two cases we can concluded, the combination is (n-1 k-1) or (n-1 k) \n",
    "\n",
    "# Q = 'a' elem C_i(k), \n",
    "#Not Q or Q -> (n-1 k-1) or (n-1 k) = (n-1 k-1) + (n-1 k)"
   ]
  },
  {
   "cell_type": "code",
   "execution_count": 9,
   "metadata": {},
   "outputs": [
    {
     "data": {
      "text/plain": [
       "35"
      ]
     },
     "execution_count": 9,
     "metadata": {},
     "output_type": "execute_result"
    }
   ],
   "source": [
    "#Combination\n",
    "def Bin2(n,k):\n",
    "  if k == 0:\n",
    "    return 1\n",
    "  if k == 1:\n",
    "    return n\n",
    "  if n < k:\n",
    "    return 0\n",
    "  else:\n",
    "    return Bin2(n-2,k-2) + Bin2(n-2,k-1) + Bin2(n-2,k-1) + Bin2(n-2,k)\n",
    "Bin2(7,3)"
   ]
  },
  {
   "cell_type": "raw",
   "metadata": {},
   "source": [
    "Given is some 'a' and 'b' are elem of n\n",
    "  Assume some 'a' elem C_i(k) or !(a elem C_i(k))\n",
    "  If 'a' elem C_i(k)...\n",
    "    Assume some 'b' elem C_i(k) or !(b elem C_i(k))\n",
    "      If 'b' elem C_i(k), we know 'a' and 'b' must be in both n and k. Two choices are restricted so combination\n",
    "      is (n-2 k-2)\n",
    "      If !(b elem C_i(k)),we know 'a' is restricted, and 'b' cannot be in n because it is in none of the combinations of k. \n",
    "      so combination is (n-2, k-1)\n",
    "  If !(a elem C_i(k))...\n",
    "    Assume some 'b' elem C_i(k) or !(b elem C_i(k))\n",
    "      If 'b' elem C_i(k), same as line 34\n",
    "      If !(b elem C_i(k)), then we know both 'a' and 'b' cannot be in n because they are in none of the combinations of k.\n",
    "      so combination is (n-2, k)\n"
   ]
  },
  {
   "cell_type": "code",
   "execution_count": 11,
   "metadata": {},
   "outputs": [
    {
     "name": "stdout",
     "output_type": "stream",
     "text": [
      "35\n"
     ]
    },
    {
     "data": {
      "text/plain": [
       "84"
      ]
     },
     "execution_count": 11,
     "metadata": {},
     "output_type": "execute_result"
    }
   ],
   "source": [
    "#Combination with repetition\n",
    "\n",
    "def CombRep(n,k):\n",
    "  \n",
    "  if k == 0:\n",
    "    return 1\n",
    "  if n == 1:\n",
    "    return 1\n",
    "  total = 0\n",
    "  for i in range(0,k+1):\n",
    "    total += CombRep(n-1,k-i)\n",
    "  return total\n",
    "print(CombRep(4,4))\n",
    "CombRep(7,3)\n",
    "#Restrict 0,1...|k| choose the rest |k|,|k-1|...0 \n",
    "#counts the number of ways to build a set k, without some arbitrary 'a' repeated k-i times."
   ]
  },
  {
   "cell_type": "raw",
   "metadata": {},
   "source": [
    "Nested Recursion"
   ]
  },
  {
   "cell_type": "code",
   "execution_count": 6,
   "metadata": {},
   "outputs": [
    {
     "name": "stdout",
     "output_type": "stream",
     "text": [
      "15\n"
     ]
    }
   ],
   "source": [
    "def sum1(n):\n",
    "  if n < 2:\n",
    "    return 1\n",
    "  else:\n",
    "    return sum1( (sum1(n-1)-sum1(n-2)))+n\n",
    "print(sum1(5))\n",
    "\n",
    "#sum(n-1) - sum(n-2) = n-1 we call this intermediate value after inner recursion\n",
    "#sum(intermediate value) = sum(n-1) this is the outer recursion\n",
    "#sum(n) = sum(n-1) + n this is the completed step\n"
   ]
  },
  {
   "cell_type": "raw",
   "metadata": {},
   "source": [
    "Primitive Recursion"
   ]
  },
  {
   "cell_type": "code",
   "execution_count": 19,
   "metadata": {},
   "outputs": [
    {
     "name": "stdout",
     "output_type": "stream",
     "text": [
      "9\n",
      "18\n"
     ]
    }
   ],
   "source": [
    "def zero(n):\n",
    "  return 0\n",
    "def succ(n):\n",
    "  return n + 1\n",
    "def proj(b,i):\n",
    "  return b[i]\n",
    "def comp(f,lstg):\n",
    "  ee = map(lambda g: lambda inputs: g(inputs), lstg)\n",
    "  ##ee is list of lambda __ : [g0(__)...gk(__)]\n",
    "  return lambda x: f(*tuple(k(x) for k in ee))\n",
    "  #returns lambda x: f((g0(x)...gk(x)))\n",
    "#lstg is a list of g_0..g_k functions each tasking same inputs\n",
    "#f takes k inputs which is number of functions\n",
    "#comp and g both takes len(x) or len(__) inputs\n",
    "\n",
    "#note that inputs is a tuple, since we can't have function with dynamic argument size\n",
    "def rec(count,Base,RWork,inputs):  \n",
    "  if count == 0:\n",
    "    return Base(inputs)\n",
    "  if count != 0:\n",
    "    Recinput = (count-1,rec(count-1,Base,RWork,inputs),inputs)\n",
    "    return RWork(Recinput)\n",
    "#from wiki\n",
    "#h is a k+1 nary function, +1 is the \"count\"  \n",
    "#h = \"rec\" function\n",
    "\n",
    "#f is the k nary function, \n",
    "#f = \"Base\" function\n",
    "\n",
    "#g is the k+2 nary function, +2 is the \"count\", \"rec(...)\"\n",
    "#g = \"RWork\" function\n",
    "\n",
    "#Note to make this work, we pass in Base, RWork, we ignore their cardinality.\n",
    "\n",
    "\n",
    "#template for Add(m,n) \n",
    "#(addbase,addRecWork,m,n)\n",
    "#induction on m\n",
    "def addbase(inputs):\n",
    "  return proj(inputs,0)\n",
    "  #Add(0,n) = n is the base case, we project 0 from \"f\" or \"Base\" function args which is only the input tuple.\n",
    "def addRecWork(Recinputs):\n",
    "  #Add(m,n) = 1+Add(m-1,n)\n",
    "  #proj(Recinput,1) is the recursive call, we project 1 from \"g\" or \"RWork\" function args\n",
    "  return succ( proj(Recinputs,1) )\n",
    "\n",
    "print(rec(6,addbase,addRecWork,(3,))) # print 9\n",
    "def Add(m,n):\n",
    "  return rec(m,addbase,addRecWork,(n,))\n",
    "#Using composition\n",
    "#print(rec(6,addbase,comp(succ,[lambda x: proj(x,1)]),(8,))\n",
    "#comp(succ,[succ])(5,)\n",
    "\n",
    "##Mult(m,n) = m* n\n",
    "def multbase(inputs):\n",
    "  return zero(proj(inputs,0))\n",
    "def multRecWork(Recinput):\n",
    "  return Add(proj(Recinput,1),proj(Recinput[2],0))\n",
    "#note we \"cheated\" using index [2] because our \"g\" function doesn't have dynamic input size\n",
    "print(rec(6,multbase,multRecWork,(3,)))\n",
    "def Mult(m,n):\n",
    "  return rec(m,multbase,multRecWork,(n,))\n"
   ]
  },
  {
   "cell_type": "code",
   "execution_count": null,
   "metadata": {},
   "outputs": [],
   "source": []
  }
 ],
 "metadata": {
  "kernelspec": {
   "display_name": "Python 3",
   "language": "python",
   "name": "python3"
  },
  "language_info": {
   "codemirror_mode": {
    "name": "ipython",
    "version": 3
   },
   "file_extension": ".py",
   "mimetype": "text/x-python",
   "name": "python",
   "nbconvert_exporter": "python",
   "pygments_lexer": "ipython3",
   "version": "3.8.6"
  }
 },
 "nbformat": 4,
 "nbformat_minor": 4
}
